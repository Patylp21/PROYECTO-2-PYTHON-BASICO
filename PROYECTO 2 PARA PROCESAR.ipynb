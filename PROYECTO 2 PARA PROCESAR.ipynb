{
 "cells": [
  {
   "cell_type": "markdown",
   "metadata": {},
   "source": [
    "## PROYECTO 2 PYTHON BASICO"
   ]
  },
  {
   "cell_type": "markdown",
   "metadata": {},
   "source": [
    "### PATRICIA PASTRANA"
   ]
  },
  {
   "cell_type": "markdown",
   "metadata": {},
   "source": [
    "### DESCRIPCIÓN DEL PROYECTO"
   ]
  },
  {
   "cell_type": "markdown",
   "metadata": {
    "id": "UCjlyTyyJm9R"
   },
   "source": [
    "\n",
    "\n",
    "Todavía desempeñándote como miembro del equipo analítico, en el primer proyecto hemos sentado las bases para la segunda fase. ¡Hemos llegado! Ahora aplicarás técnicas avanzadas para extraer datos significativos, atendiendo a las crecientes necesidades del cliente."
   ]
  },
  {
   "cell_type": "markdown",
   "metadata": {
    "id": "4ZzATQthJm9Y"
   },
   "source": [
    "Como sabes, las empresas recopilan y almacenan datos de una forma particular. Store 1 quiere almacenar toda la información de sus clientes en una tabla.\n",
    "\n",
    "\n",
    "| user_id | user_name | user_age | purchase_category | spending_per_category |\n",
    "| --- | --- | --- | --- | --- |\n",
    "| '32415' | 'mike', 'reed' | 32 | 'electronics', 'sport', 'books' | 894, 213, 173 |\n",
    "| '31980' | 'kate', 'morgan' | 24 | 'clothes', 'shoes' | 439, 390 |\n",
    "\n",
    "En términos técnicos, una tabla es simplemente una lista anidada que contiene una sublista para cada usuario o usuaria.\n",
    "\n",
    "Store 1 ha creado una tabla de este tipo para sus usuarios. Está almacenada en la variable \"users\". Cada sublista contiene el ID del usuario, nombre y apellido, edad, categorías favoritas y el importe gastado en cada categoría."
   ]
  },
  {
   "cell_type": "markdown",
   "metadata": {
    "id": "EMQlsEYlxGET"
   },
   "source": [
    "-\t**user_id:** el identificador único para cada usuario.\n",
    "-\t**user_name:** el nombre de usuario.\n",
    "-\t**user_age:** la edad del usuario.\n",
    "-\t**fav_categories:** las categorías de artículos comprados por el usuario, como 'ELECTRONICS', 'SPORT', 'BOOKS', etc.\n",
    "-\t**total_spendings:** la lista de enteros que indican la cantidad gastada en cada una de sus categorías favoritas.\n"
   ]
  },
  {
   "cell_type": "code",
   "execution_count": 22,
   "metadata": {
    "id": "LfBCH4crxLOt",
    "trusted": true
   },
   "outputs": [],
   "source": [
    "users = [\n",
    "    ['32415', ' mike_reed ', 32.0, ['ELECTRONICS', 'SPORT', 'BOOKS'], [894, 213, 173]],\n",
    "    ['31980', 'kate morgan', 24.0, ['CLOTHES', 'BOOKS'], [439, 390]],\n",
    "    ['32156', ' john doe ', 37.0, ['ELECTRONICS', 'HOME', 'FOOD'], [459, 120, 99]],\n",
    "    ['32761', 'SAMANTHA SMITH', 29.0, ['CLOTHES', 'ELECTRONICS', 'BEAUTY'], [299, 679, 85]],\n",
    "    ['32984', 'David White', 41.0, ['BOOKS', 'HOME', 'SPORT'], [234, 329, 243]],\n",
    "    ['33001', 'emily brown', 26.0, ['BEAUTY', 'HOME', 'FOOD'], [213, 659, 79]],\n",
    "    ['33767', ' Maria Garcia', 33.0, ['CLOTHES', 'FOOD', 'BEAUTY'], [499, 189, 63]],\n",
    "    ['33912', 'JOSE MARTINEZ', 22.0, ['SPORT', 'ELECTRONICS', 'HOME'], [259, 549, 109]],\n",
    "    ['34009', 'lisa wilson ', 35.0, ['HOME', 'BOOKS', 'CLOTHES'], [329, 189, 329]],\n",
    "    ['34278', 'James Lee', 28.0, ['BEAUTY', 'CLOTHES', 'ELECTRONICS'], [189, 299, 579]],\n",
    "]\n"
   ]
  },
  {
   "cell_type": "markdown",
   "metadata": {
    "id": "vgnoxECvlWvr"
   },
   "source": [
    "# Paso 1\n",
    "\n",
    "En la última tarea de la primera parte de este proyecto escribiste código para:\n",
    "\n",
    "1. Eliminar todos los espacios iniciales y finales de los nombres, así como cualquier guion bajo.\n",
    "2. Convertir todas las edades en números enteros.\n",
    "3. Separar todos los nombres y apellidos en una sublista.\n",
    "\n",
    "Hagámoslo ahora una función para que podamos usarla para fijar a cualquier cliente. Nombra a tu función `clean_user`. Debe recibir una lista con toda la información del cliente (user_info), así como dos enteros. Uno de ellos señala el índice del nombre del cliente y el otro es el índice de la edad del cliente en la lista. Debe devolver la lista limpia después de aplicar todos los cambios anteriores. Pruébala llamándola, pasándole la lista `test_user[]` y luego muéstrala en pantalla.\n"
   ]
  },
  {
   "cell_type": "code",
   "execution_count": 23,
   "metadata": {
    "colab": {
     "base_uri": "https://localhost:8080/"
    },
    "id": "RN6LIlHelWvr",
    "outputId": "632ceadd-0f9a-46cf-91c1-b4bea53623d0",
    "trusted": true
   },
   "outputs": [
    {
     "name": "stdout",
     "output_type": "stream",
     "text": [
      "['32415', ['mike', 'reed'], 32, ['ELECTRONICS', 'SPORT', 'BOOKS'], [894, 213, 173]]\n"
     ]
    }
   ],
   "source": [
    "# define tu función aquí\n",
    "def clean_user (call_user, name, age):\n",
    "\n",
    "    # Paso 1: elimina del nombre espacios iniciales y finales, así como guiones\n",
    "   \n",
    "    temporal = call_user[name].strip().replace('_', ' ')\n",
    "    \n",
    "    # Paso 2: convierte la edad en entero\n",
    "    user_age_1 = int(call_user[age]) \n",
    "\n",
    "    # Paso 3: separa el nombre y el apellido en una sublista\n",
    "    user_name_1 = temporal.split()\n",
    "    \n",
    "\n",
    "    # Prepara la lista con la información completa del usuario\n",
    "    # Reemplaza el nombre y la edad originales con los datos limpios\n",
    "    call_user[name] = user_name_1\n",
    "    call_user[age] = user_age_1 \n",
    " \n",
    "        \n",
    "    return call_user\n",
    "\n",
    "# Prueba la función\n",
    "test_user = ['32415', ' mike_reed ', 32.0, ['ELECTRONICS', 'SPORT', 'BOOKS'], [894, 213, 173]]\n",
    "name_index = 1\n",
    "age_index = 2\n",
    "\n",
    "print(clean_user(test_user, name_index, age_index))\n",
    "      "
   ]
  },
  {
   "cell_type": "markdown",
   "metadata": {
    "id": "zF6ADQNLJm9W"
   },
   "source": [
    "# Paso 2\n",
    "\n",
    "Observa que todas las categorías favoritas están almacenadas en mayúsculas. Llena una nueva lista llamada `fav_categories_low` con las mismas categorías, pero en minúsculas, iterando sobre los valores en la lista `fav_categories`, modificándolos y luego añade los nuevos valores a la lista `fav_categories_low`. Como siempre, muestra el resultado final.\n"
   ]
  },
  {
   "cell_type": "code",
   "execution_count": 24,
   "metadata": {
    "colab": {
     "base_uri": "https://localhost:8080/"
    },
    "id": "Ltoq2LXjJm9W",
    "outputId": "5a05c845-8d3c-4890-8070-38ccb63dd5b4",
    "trusted": true
   },
   "outputs": [
    {
     "name": "stdout",
     "output_type": "stream",
     "text": [
      "['electronics', 'sport', 'books']\n"
     ]
    }
   ],
   "source": [
    "fav_categories = ['ELECTRONICS', 'SPORT', 'BOOKS']\n",
    "fav_categories_low = []\n",
    "\n",
    "# escribe tu código aquí\n",
    "\n",
    "for fav_categorie in fav_categories:\n",
    "    fav_categories_low.append(fav_categorie.lower())\n",
    "\n",
    "\n",
    "print(fav_categories_low)\n",
    "#como puedo hacerle par que mi lista se vea de la siguiente manera ['Electronics','Sport','Books']"
   ]
  },
  {
   "cell_type": "markdown",
   "metadata": {
    "id": "xhKqJwaqdrRu"
   },
   "source": [
    "# Paso 3\n",
    "\n",
    "Ahora hagamos lo mismo, pero para cada uno de los usuarios de la empresa. Llena una lista nueva llamada `users_categories_low` con los mismos usuarios, pero con sus categorías en minúsculas, iterando sobre los valores en la lista `users`, luego itera sobre los valores en `user_categories`, modificándolos, y después agrega los nuevos valores de usuarios a la lista `users_categories_low`. Como siempre, muestra el resultado final.\n"
   ]
  },
  {
   "cell_type": "code",
   "execution_count": 25,
   "metadata": {
    "colab": {
     "base_uri": "https://localhost:8080/"
    },
    "id": "uBfnDzZfdrR1",
    "outputId": "6e0b3a3b-c94e-4402-a9d1-dc88fe07256e",
    "trusted": true
   },
   "outputs": [
    {
     "name": "stdout",
     "output_type": "stream",
     "text": [
      "[['32415', ' mike_reed ', 32.0, ['electronics', 'sport', 'books'], [894, 213, 173]], ['31980', 'kate morgan', 24.0, ['clothes', 'books'], [439, 390]], ['32156', ' john doe ', 37.0, ['electronics', 'home', 'food'], [459, 120, 99]], ['32761', 'SAMANTHA SMITH', 29.0, ['clothes', 'electronics', 'beauty'], [299, 679, 85]], ['32984', 'David White', 41.0, ['books', 'home', 'sport'], [234, 329, 243]], ['33001', 'emily brown', 26.0, ['beauty', 'home', 'food'], [213, 659, 79]], ['33767', ' Maria Garcia', 33.0, ['clothes', 'food', 'beauty'], [499, 189, 63]], ['33912', 'JOSE MARTINEZ', 22.0, ['sport', 'electronics', 'home'], [259, 549, 109]], ['34009', 'lisa wilson ', 35.0, ['home', 'books', 'clothes'], [329, 189, 329]], ['34278', 'James Lee', 28.0, ['beauty', 'clothes', 'electronics'], [189, 299, 579]]]\n"
     ]
    }
   ],
   "source": [
    "users = [\n",
    "    ['32415', ' mike_reed ', 32.0, ['ELECTRONICS', 'SPORT', 'BOOKS'], [894, 213, 173]],\n",
    "    ['31980', 'kate morgan', 24.0, ['CLOTHES', 'BOOKS'], [439, 390]],\n",
    "    ['32156', ' john doe ', 37.0, ['ELECTRONICS', 'HOME', 'FOOD'], [459, 120, 99]],\n",
    "    ['32761', 'SAMANTHA SMITH', 29.0, ['CLOTHES', 'ELECTRONICS', 'BEAUTY'], [299, 679, 85]],\n",
    "    ['32984', 'David White', 41.0, ['BOOKS', 'HOME', 'SPORT'], [234, 329, 243]],\n",
    "    ['33001', 'emily brown', 26.0, ['BEAUTY', 'HOME', 'FOOD'], [213, 659, 79]],\n",
    "    ['33767', ' Maria Garcia', 33.0, ['CLOTHES', 'FOOD', 'BEAUTY'], [499, 189, 63]],\n",
    "    ['33912', 'JOSE MARTINEZ', 22.0, ['SPORT', 'ELECTRONICS', 'HOME'], [259, 549, 109]],\n",
    "    ['34009', 'lisa wilson ', 35.0, ['HOME', 'BOOKS', 'CLOTHES'], [329, 189, 329]],\n",
    "    ['34278', 'James Lee', 28.0, ['BEAUTY', 'CLOTHES', 'ELECTRONICS'], [189, 299, 579]],\n",
    "]\n",
    "\n",
    "users_categories_low = []\n",
    "for user in users:\n",
    "    categories_low = []\n",
    "    for category in user[3]:\n",
    "        lowered_category = category.lower()\n",
    "        categories_low.append(lowered_category)\n",
    "    user.pop(3)\n",
    "    user.insert(3, categories_low)\n",
    "    users_categories_low.append(user)\n",
    "print(users_categories_low)\n",
    "        \n",
    "        \n",
    "        \n",
    "        \n",
    "        \n",
    "        \n",
    "    \n",
    "    \n",
    "\n",
    "\n",
    "        \n",
    "\n"
   ]
  },
  {
   "cell_type": "markdown",
   "metadata": {
    "id": "uisdgp0or8rS"
   },
   "source": [
    "# Paso 4\n",
    "\n",
    "Ahora, completemos el código de nuestra función `clean_user` para limpiar la categoría:\n",
    "1. Añade otro parámetro con el índice de categorías.\n",
    "2. Pon todos los nombres en minúsculas antes de aplicar \"strip\" y \"replace\".\n",
    "\n",
    "Después, crea un bucle y aplica tu función a toda la lista de usuarios, agregando tus resultados a la lista `users_clean`. Después muéstralo"
   ]
  },
  {
   "cell_type": "code",
   "execution_count": 26,
   "metadata": {
    "colab": {
     "base_uri": "https://localhost:8080/"
    },
    "id": "ioGD_Cs5r8ra",
    "outputId": "fddb59df-a686-4270-9a01-1803d53a0da9",
    "trusted": true
   },
   "outputs": [
    {
     "name": "stdout",
     "output_type": "stream",
     "text": [
      "['32415', ['mike', 'reed'], 32, ['electronics', 'sport', 'books'], [894, 213, 173]]\n",
      "['31980', ['kate', 'morgan'], 24, ['clothes', 'books'], [439, 390]]\n",
      "['32156', ['john', 'doe'], 37, ['electronics', 'home', 'food'], [459, 120, 99]]\n",
      "['32761', ['samantha', 'smith'], 29, ['clothes', 'electronics', 'beauty'], [299, 679, 85]]\n",
      "['32984', ['david', 'white'], 41, ['books', 'home', 'sport'], [234, 329, 243]]\n",
      "['33001', ['emily', 'brown'], 26, ['beauty', 'home', 'food'], [213, 659, 79]]\n",
      "['33767', ['maria', 'garcia'], 33, ['clothes', 'food', 'beauty'], [499, 189, 63]]\n",
      "['33912', ['jose', 'martinez'], 22, ['sport', 'electronics', 'home'], [259, 549, 109]]\n",
      "['34009', ['lisa', 'wilson'], 35, ['home', 'books', 'clothes'], [329, 189, 329]]\n",
      "['34278', ['james', 'lee'], 28, ['beauty', 'clothes', 'electronics'], [189, 299, 579]]\n"
     ]
    }
   ],
   "source": [
    "def clean_user(user_info, name_index, age_index, cat_index):\n",
    "    \n",
    "    # Paso 1: pon todo en minúsculas y elimina del nombre espacios iniciales y finales, así como guiones\n",
    "    user_name_1 = user_info[name_index].lower().strip().replace('_',' ')\n",
    "    \n",
    "    # Paso 2: convierte la edad en entero\n",
    "    user_age_1 = int(user_info[age_index])\n",
    "    # Paso 3: separa el nombre y el apellido en una sublista\n",
    "    user_name_1 = user_name_1.split()\n",
    "    # Paso 4: pon categoria a minusculas\n",
    "    users_clean = []\n",
    "    \n",
    "    for category in user_info[cat_index]:\n",
    "        lowered_category = category.lower()\n",
    "        users_clean.append(lowered_category)\n",
    "        \n",
    "       \n",
    "   \n",
    "  # Prepara la lista con la información completa del usuario\n",
    "  # Reemplaza el nombre y la edad originales con los datos limpios\n",
    "  # escribe tu código aquí\n",
    "    \n",
    "    user_info[name_index] = user_name_1\n",
    "    user_info[age_index] = user_age_1\n",
    "    user_info[cat_index] = users_clean\n",
    "\n",
    "    return user_info\n",
    "\n",
    "\n",
    "users = [\n",
    "    ['32415', ' mike_reed ', 32.0, ['ELECTRONICS', 'SPORT', 'BOOKS'], [894, 213, 173]],\n",
    "    ['31980', 'kate morgan', 24.0, ['CLOTHES', 'BOOKS'], [439, 390]],\n",
    "    ['32156', ' john doe ', 37.0, ['ELECTRONICS', 'HOME', 'FOOD'], [459, 120, 99]],\n",
    "    ['32761', 'SAMANTHA SMITH', 29.0, ['CLOTHES', 'ELECTRONICS', 'BEAUTY'], [299, 679, 85]],\n",
    "    ['32984', 'David White', 41.0, ['BOOKS', 'HOME', 'SPORT'], [234, 329, 243]],\n",
    "    ['33001', 'emily brown', 26.0, ['BEAUTY', 'HOME', 'FOOD'], [213, 659, 79]],\n",
    "    ['33767', ' Maria Garcia', 33.0, ['CLOTHES', 'FOOD', 'BEAUTY'], [499, 189, 63]],\n",
    "    ['33912', 'JOSE MARTINEZ', 22.0, ['SPORT', 'ELECTRONICS', 'HOME'], [259, 549, 109]],\n",
    "    ['34009', 'lisa wilson ', 35.0, ['HOME', 'BOOKS', 'CLOTHES'], [329, 189, 329]],\n",
    "    ['34278', 'James Lee', 28.0, ['BEAUTY', 'CLOTHES', 'ELECTRONICS'], [189, 299, 579]],\n",
    "]\n",
    "\n",
    "name_index = 1\n",
    "age_index = 2\n",
    "cat_index = 3\n",
    "users_cleaned = []\n",
    "\n",
    "for user in users:   # escribe tu código aquí\n",
    "    \n",
    "    user_cleaned = clean_user(user, name_index, age_index, cat_index)\n",
    "    users_cleaned.append(user_cleaned)\n",
    "    \n",
    "  \n",
    "\n",
    "for x in users_cleaned:\n",
    "    \n",
    "    print(x)"
   ]
  },
  {
   "cell_type": "markdown",
   "metadata": {
    "id": "eONfrv9nJm9Y"
   },
   "source": [
    "# Paso 5\n",
    "\n",
    "La empresa desea conocer sus ingresos totales y te pide que proporciones este valor.\n",
    "Para calcular los ingresos de la empresa, sigue estos pasos:\n",
    "\n",
    "1. Utiliza `for` para iterar sobre la lista `users`.\n",
    "2. Extrae la lista de gastos de cada usuario y suma los valores.\n",
    "3. Actualiza el valor de los ingresos con el total de cada usuario.\n",
    "\n",
    "Así obtendrás los ingresos totales de la empresa que mostrarás en la pantalla al final.\n"
   ]
  },
  {
   "cell_type": "code",
   "execution_count": 27,
   "metadata": {
    "colab": {
     "base_uri": "https://localhost:8080/"
    },
    "id": "ijzboKgoJm9Y",
    "outputId": "9aad5fe8-55ec-475b-9b40-afc590ae05e6",
    "trusted": true
   },
   "outputs": [
    {
     "name": "stdout",
     "output_type": "stream",
     "text": [
      "9189\n"
     ]
    }
   ],
   "source": [
    "users = [['32415', ['mike', 'reed'], 32, ['electronics', 'sport', 'books'], [894, 213, 173]],\n",
    "         ['31980', ['kate', 'morgan'], 24, ['clothes', 'books'], [439, 390]],\n",
    "         ['32156', ['john', 'doe'], 37, ['electronics', 'home', 'food'], [459, 120, 99]],\n",
    "         ['32761', ['samantha', 'smith'], 29, ['clothes', 'electronics', 'beauty'], [299, 679, 85]],\n",
    "         ['32984', ['david', 'white'], 41, ['books', 'home', 'sport'], [234, 329, 243]],\n",
    "         ['33001', ['emily', 'brown'], 26, ['beauty', 'home', 'food'], [213, 659, 79]],\n",
    "         ['33767', ['maria', 'garcia'], 33, ['clothes', 'food', 'beauty'], [499, 189, 63]],\n",
    "         ['33912', ['jose', 'martinez'], 22, ['sport', 'electronics', 'home'], [259, 549, 109]],\n",
    "         ['34009', ['lisa', 'wilson'], 35, ['home', 'books', 'clothes'], [329, 189, 329]],\n",
    "         ['34278', ['james', 'lee'], 28, ['beauty', 'clothes', 'electronics'], [189, 299, 579]]]\n",
    "\n",
    "\n",
    "    \n",
    "    \n",
    "revenue = 0\n",
    "\n",
    "for user in users:\n",
    "    spendings_list = user[4]\n",
    "    total_spendings = sum(spendings_list)\n",
    "    revenue += total_spendings\n",
    "    \n",
    "    #revenue += sum(user[4])\n",
    "    \n",
    "    \n",
    "print(revenue)"
   ]
  },
  {
   "cell_type": "markdown",
   "metadata": {},
   "source": [
    "Hola, de acuerdo a los comentarios trate de corregir lo que me decia y crear las variables, pero ahora mi resultado es ese, la verdad no\n",
    "encuentro donde esta mal y porque NO me hace la suma, no entiendo.. :'(\n",
    "    "
   ]
  },
  {
   "cell_type": "markdown",
   "metadata": {
    "id": "R1wNYes8Jm9X"
   },
   "source": [
    "# Paso 6\n",
    "\n",
    "La empresa quiere ofrecer descuentos a sus clientes leales. Los clientes que realizan compras por un importe total mayor a $1500 se consideran leales y recibirán un descuento.\n",
    "\n",
    "Nuestro objetivo es crear un bucle `while` que compruebe el importe total gastado y se detenga al alcanzarlo. Para simular nuevas compras, la variable `new_purchase` genera un número entre 30 y 80 en cada iteración del bucle. Esto representa la cantidad de dinero gastada en una nueva compra y es lo que debes agregar al total.\n",
    "\n",
    "Una vez que se alcance el importe objetivo y se termine el bucle `while`, se mostrará la cantidad final.\n"
   ]
  },
  {
   "cell_type": "code",
   "execution_count": null,
   "metadata": {
    "colab": {
     "base_uri": "https://localhost:8080/"
    },
    "id": "eVBfoyx7Jm9X",
    "outputId": "27091cb5-f5f4-4b74-f92a-c2d822354a40",
    "scrolled": true,
    "trusted": true
   },
   "outputs": [
    {
     "name": "stdout",
     "output_type": "stream",
     "text": [
      "1529\n"
     ]
    }
   ],
   "source": [
    "from random import randint\n",
    "\n",
    "total_amount_spent = 1280\n",
    "target_amount = 1500\n",
    "\n",
    "while total_amount_spent < target_amount:  # escribe tu código aquí\n",
    "\tnew_purchase = randint(30, 80) # generamos un número aleatorio de 30 a 80\n",
    "\ttotal_amount_spent += new_purchase # escribe tu código aquí\n",
    "\n",
    "print(total_amount_spent)"
   ]
  },
  {
   "cell_type": "markdown",
   "metadata": {
    "id": "IoyNnalCJm9Z"
   },
   "source": [
    "# Paso 7\n",
    "\n",
    "Recorre la lista de usuarios que te hemos proporcionado y muestra los nombres de los clientes menores de 30 años.\n"
   ]
  },
  {
   "cell_type": "code",
   "execution_count": null,
   "metadata": {
    "colab": {
     "base_uri": "https://localhost:8080/"
    },
    "id": "pn5WkcpJJm9Z",
    "outputId": "e95fe449-868e-4a89-f9e6-6e3c7b62bd80",
    "trusted": true
   },
   "outputs": [
    {
     "name": "stdout",
     "output_type": "stream",
     "text": [
      "['kate', 'morgan']\n",
      "['samantha', 'smith']\n",
      "['emily', 'brown']\n",
      "['jose', 'martinez']\n",
      "['james', 'lee']\n"
     ]
    }
   ],
   "source": [
    "users = [['32415', ['mike', 'reed'], 32, ['electronics', 'sport', 'books'], [894, 213, 173]],\n",
    "         ['31980', ['kate', 'morgan'], 24, ['clothes', 'books'], [439, 390]],\n",
    "         ['32156', ['john', 'doe'], 37, ['electronics', 'home', 'food'], [459, 120, 99]],\n",
    "         ['32761', ['samantha', 'smith'], 29, ['clothes', 'electronics', 'beauty'], [299, 679, 85]],\n",
    "         ['32984', ['david', 'white'], 41, ['books', 'home', 'sport'], [234, 329, 243]],\n",
    "         ['33001', ['emily', 'brown'], 26, ['beauty', 'home', 'food'], [213, 659, 79]],\n",
    "         ['33767', ['maria', 'garcia'], 33, ['clothes', 'food', 'beauty'], [499, 189, 63]],\n",
    "         ['33912', ['jose', 'martinez'], 22, ['sport', 'electronics', 'home'], [259, 549, 109]],\n",
    "         ['34009', ['lisa', 'wilson'], 35, ['home', 'books', 'clothes'], [329, 189, 329]],\n",
    "         ['34278', ['james', 'lee'], 28, ['beauty', 'clothes', 'electronics'], [189, 299, 579]]]\n",
    "\n",
    "\n",
    "for user in users:\n",
    "    if user[2] < 30:\n",
    "        print(user[1])\n",
    "        "
   ]
  },
  {
   "cell_type": "markdown",
   "metadata": {
    "id": "0ok38JMoJm9Z"
   },
   "source": [
    "# Paso 8\n",
    "\n",
    "Mostremos en pantalla los nombres de los usuarios menores de 30 años que acumulan un gasto total superior a 1000 dólares.\n"
   ]
  },
  {
   "cell_type": "code",
   "execution_count": null,
   "metadata": {
    "colab": {
     "base_uri": "https://localhost:8080/"
    },
    "id": "4oAW1QDFJm9Z",
    "outputId": "c514027b-62cc-42bd-a8bb-d29975abd663",
    "trusted": true
   },
   "outputs": [
    {
     "name": "stdout",
     "output_type": "stream",
     "text": [
      "['samantha', 'smith']\n",
      "['james', 'lee']\n"
     ]
    }
   ],
   "source": [
    "users = [['32415', ['mike', 'reed'], 32, ['electronics', 'sport', 'books'], [894, 213, 173]],\n",
    "         ['31980', ['kate', 'morgan'], 24, ['clothes', 'books'], [439, 390]],\n",
    "         ['32156', ['john', 'doe'], 37, ['electronics', 'home', 'food'], [459, 120, 99]],\n",
    "         ['32761', ['samantha', 'smith'], 29, ['clothes', 'electronics', 'beauty'], [299, 679, 85]],\n",
    "         ['32984', ['david', 'white'], 41, ['books', 'home', 'sport'], [234, 329, 243]],\n",
    "         ['33001', ['emily', 'brown'], 26, ['beauty', 'home', 'food'], [213, 659, 79]],\n",
    "         ['33767', ['maria', 'garcia'], 33, ['clothes', 'food', 'beauty'], [499, 189, 63]],\n",
    "         ['33912', ['jose', 'martinez'], 22, ['sport', 'electronics', 'home'], [259, 549, 109]],\n",
    "         ['34009', ['lisa', 'wilson'], 35, ['home', 'books', 'clothes'], [329, 189, 329]],\n",
    "         ['34278', ['james', 'lee'], 28, ['beauty', 'clothes', 'electronics'], [189, 299, 579]]]\n",
    "\n",
    "# escribe tu código aquí\n",
    "for user in users:\n",
    "    if user[2] < 30:\n",
    "        result = sum(user[4])\n",
    "    if user[2] < 30 and result > 1000:\n",
    "        print(user[1])\n",
    "        \n",
    "            \n",
    "            \n",
    "        \n",
    "    \n",
    "        \n",
    "        \n",
    "        \n"
   ]
  },
  {
   "cell_type": "markdown",
   "metadata": {
    "id": "H2jI5ljVJm9d"
   },
   "source": [
    "# Paso 9\n",
    "\n",
    "Ahora vamos a mostrar el nombre y la edad de todos los usuarios y todas las usuarias que han comprado ropa (\"clothes\"). Imprime el nombre y la edad en la misma declaración print.\n"
   ]
  },
  {
   "cell_type": "code",
   "execution_count": null,
   "metadata": {
    "colab": {
     "base_uri": "https://localhost:8080/"
    },
    "id": "oSLk86udJm9d",
    "outputId": "5c323307-6591-4af9-c2d2-529a329367d6",
    "trusted": true
   },
   "outputs": [
    {
     "name": "stdout",
     "output_type": "stream",
     "text": [
      "['kate', 'morgan'] 24\n",
      "['samantha', 'smith'] 29\n",
      "['maria', 'garcia'] 33\n",
      "['lisa', 'wilson'] 35\n",
      "['james', 'lee'] 28\n"
     ]
    }
   ],
   "source": [
    "users = [['32415', ['mike', 'reed'], 32, ['electronics', 'sport', 'books'], [894, 213, 173]],\n",
    "         ['31980', ['kate', 'morgan'], 24, ['clothes', 'books'], [439, 390]],\n",
    "         ['32156', ['john', 'doe'], 37, ['electronics', 'home', 'food'], [459, 120, 99]],\n",
    "         ['32761', ['samantha', 'smith'], 29, ['clothes', 'electronics', 'beauty'], [299, 679, 85]],\n",
    "         ['32984', ['david', 'white'], 41, ['books', 'home', 'sport'], [234, 329, 243]],\n",
    "         ['33001', ['emily', 'brown'], 26, ['beauty', 'home', 'food'], [213, 659, 79]],\n",
    "         ['33767', ['maria', 'garcia'], 33, ['clothes', 'food', 'beauty'], [499, 189, 63]],\n",
    "         ['33912', ['jose', 'martinez'], 22, ['sport', 'electronics', 'home'], [259, 549, 109]],\n",
    "         ['34009', ['lisa', 'wilson'], 35, ['home', 'books', 'clothes'], [329, 189, 329]],\n",
    "         ['34278', ['james', 'lee'], 28, ['beauty', 'clothes', 'electronics'], [189, 299, 579]]]\n",
    "\n",
    "# escribe tu código aquí\n",
    "\n",
    "\n",
    "clos = 'clothes'\n",
    "\n",
    "for user in users:\n",
    "    for clos in user[3]:\n",
    "        if clos in'clothes':\n",
    "            \n",
    "            \n",
    "        \n",
    "        #if clothes in users[3]:\n",
    "            print(user[1], user[2])\n",
    "            \n",
    "            \n",
    "            #users = user[1][2]\n",
    "            \n",
    "#print(user)\n",
    "            \n",
    "    \n",
    "   \n",
    "   \n",
    "\n",
    "\n",
    " \n"
   ]
  },
  {
   "cell_type": "markdown",
   "metadata": {
    "id": "EasWyEPqJm9d"
   },
   "source": [
    "********Pista********\n",
    "\n",
    "Utiliza el bucle for para iterar sobre cada fila de la tabla. A continuación, utiliza otro bucle para comprobar si este usuario ha comprado ropa (\"clothes\") y, en caso afirmativo, muestra el nombre y la edad dentro de la misma declaración print, separándolos por comas: `print(firstname, age)`."
   ]
  },
  {
   "cell_type": "markdown",
   "metadata": {
    "id": "88QES-0NJzCJ"
   },
   "source": [
    "# Paso 10\n",
    "\n",
    "La dirección requiere de una función que proporcione información sobre los clientes, incluyendo sus nombres, edades y gasto total, filtrada por categorías específicas. Con base en fragmentos de código anteriores, crearemos una función llamada `get_client_by_cat` con las siguientes especificaciones:\n",
    "\n",
    "1. **Parámetros:**\n",
    "   - **users:** una lista con los datos de los usuarios.\n",
    "   - **id_index:** el índice donde está almacenado el ID del cliente en la lista de usuarios.\n",
    "   - **name_index:** el índice donde está almacenado el nombre del cliente en la lista de usuarios.\n",
    "   - **age_index:** el índice donde la edad del cliente está almacenada en la lista de usuarios.\n",
    "   - **category_index:** el índice donde las categorías de compras del cliente están listadas.\n",
    "   - **amounts_index:** el índice donde las cantidades gastadas en cada categoría están almacenadas.\n",
    "   - **filter_category:** un string que representa el nombre de la categoría para filtrar clientes.\n",
    "\n",
    "2. **Salida:**\n",
    "   - La función devuelve una lista de sublistas. Cada sublista contiene:\n",
    "     - El número ID del cliente.\n",
    "     - Una sublista con el nombre y apellido del cliente.\n",
    "     - La edad del cliente.\n",
    "     - Un entero que representa la cantidad total gastada por el cliente.\n",
    "\n",
    "Por ejemplo, si llamas a la función con los siguientes parámetros:\n",
    "\n",
    "\n",
    "```python\n",
    "get_client_by_cat([\n",
    "    ['32415', ['mike', 'reed'], 32, ['electronics', 'sport', 'books'], [894, 213, 173]]\n",
    "], 0, 1, 2, 3, 4, 'books')\n",
    "```\n",
    "\n",
    "La salida será:\n",
    "\n",
    "```python\n",
    "[['32415', ['mike', 'reed'], 32, 1280]]\n",
    "```\n",
    "\n",
    "Esta salida muestra que el cliente con el ID '32415', llamado Mike Reed, de 32 años, gastó un total de 1280 en la categoría 'books' y otras compras.\n",
    "\n",
    "Después de hacer tu función, llámala pasándole nuestra lista de usuarios, los índices adecuados y la categoría 'home' y muestra en pantalla la lista que resulta.\n",
    "\n"
   ]
  },
  {
   "cell_type": "code",
   "execution_count": null,
   "metadata": {
    "colab": {
     "base_uri": "https://localhost:8080/"
    },
    "id": "-Iqf7AcXJzCP",
    "outputId": "ab62869b-a028-4096-9553-e0a5b5a8c92e",
    "trusted": true
   },
   "outputs": [
    {
     "name": "stdout",
     "output_type": "stream",
     "text": [
      "[['32156', ['john', 'doe'], 37, ['electronics', 'home', 'food'], 678], ['32984', ['david', 'white'], 41, ['books', 'home', 'sport'], 806], ['33001', ['emily', 'brown'], 26, ['beauty', 'home', 'food'], 951], ['33912', ['jose', 'martinez'], 22, ['sport', 'electronics', 'home'], 917], ['34009', ['lisa', 'wilson'], 35, ['home', 'books', 'clothes'], 847]]\n"
     ]
    }
   ],
   "source": [
    "def get_client_by_cat(id_index, name_index, age_index, category_index, amounts_index, filter_category):\n",
    "    sub_client = []\n",
    "    clients_filter = []\n",
    "    \n",
    "    for user in users:\n",
    "        total_gastos = sum(user[amounts_index])\n",
    "        if filter_category in user[category_index]:\n",
    "            sub_client = [user[id_index], user[name_index], user[age_index], user[category_index], total_gastos]\n",
    "            clients_filter.append(sub_client)\n",
    "    return(clients_filter)\n",
    "            \n",
    "        \n",
    "    # escribe tu código aquí\n",
    "\n",
    "# La lista de usuarios\n",
    "users = [\n",
    "    ['32415', ['mike', 'reed'], 32, ['electronics', 'sport', 'books'], [894, 213, 173]],\n",
    "    ['31980', ['kate', 'morgan'], 24, ['clothes', 'books'], [439, 390]],\n",
    "    ['32156', ['john', 'doe'], 37, ['electronics', 'home', 'food'], [459, 120, 99]],\n",
    "    ['32761', ['samantha', 'smith'], 29, ['clothes', 'electronics', 'beauty'], [299, 679, 85]],\n",
    "    ['32984', ['david', 'white'], 41, ['books', 'home', 'sport'], [234, 329, 243]],\n",
    "    ['33001', ['emily', 'brown'], 26, ['beauty', 'home', 'food'], [213, 659, 79]],git\n",
    "    ['33767', ['maria', 'garcia'], 33, ['clothes', 'food', 'beauty'], [499, 189, 63]],\n",
    "    ['33912', ['jose', 'martinez'], 22, ['sport', 'electronics', 'home'], [259, 549, 109]],\n",
    "    ['34009', ['lisa', 'wilson'], 35, ['home', 'books', 'clothes'], [329, 189, 329]],\n",
    "    ['34278', ['james', 'lee'], 28, ['beauty', 'clothes', 'electronics'], [189, 299, 579]]\n",
    "]\n",
    "\n",
    "\n",
    "# Llama a la función con la categoría 'home'\n",
    "#result = get_client_by_cat([id_index, name_index, age_index, category_index, amounts_index],0,1,2,3,4,5, 'home')\n",
    "result = get_client_by_cat(0, 1, 2, 3, 4, 'home')\n",
    "\n",
    "# Muestra en pantalla la lista que resulta\n",
    "print(result)\n"
   ]
  }
 ],
 "metadata": {
  "ExecuteTimeLog": [
   {
    "duration": 9,
    "start_time": "2025-01-31T06:07:25.692Z"
   },
   {
    "duration": 5,
    "start_time": "2025-01-31T06:09:55.685Z"
   },
   {
    "duration": 6,
    "start_time": "2025-01-31T16:34:06.620Z"
   },
   {
    "duration": 3,
    "start_time": "2025-01-31T16:34:27.233Z"
   },
   {
    "duration": 3,
    "start_time": "2025-01-31T16:34:46.749Z"
   },
   {
    "duration": 3,
    "start_time": "2025-01-31T16:35:13.525Z"
   },
   {
    "duration": 3,
    "start_time": "2025-01-31T16:36:04.427Z"
   },
   {
    "duration": 3,
    "start_time": "2025-01-31T16:36:26.307Z"
   },
   {
    "duration": 3,
    "start_time": "2025-01-31T16:37:51.784Z"
   },
   {
    "duration": 4,
    "start_time": "2025-01-31T16:38:10.288Z"
   },
   {
    "duration": 3,
    "start_time": "2025-01-31T16:41:36.358Z"
   },
   {
    "duration": 3,
    "start_time": "2025-01-31T16:45:40.271Z"
   },
   {
    "duration": 3,
    "start_time": "2025-01-31T16:54:17.563Z"
   },
   {
    "duration": 4,
    "start_time": "2025-01-31T16:54:43.752Z"
   },
   {
    "duration": 3,
    "start_time": "2025-01-31T16:56:19.103Z"
   },
   {
    "duration": 6,
    "start_time": "2025-01-31T16:56:54.309Z"
   },
   {
    "duration": 4,
    "start_time": "2025-01-31T16:57:13.160Z"
   },
   {
    "duration": 3,
    "start_time": "2025-01-31T16:57:39.180Z"
   },
   {
    "duration": 159,
    "start_time": "2025-01-31T17:02:23.457Z"
   },
   {
    "duration": 13,
    "start_time": "2025-01-31T17:02:55.012Z"
   },
   {
    "duration": 5,
    "start_time": "2025-01-31T17:09:52.737Z"
   },
   {
    "duration": 4,
    "start_time": "2025-01-31T17:10:11.761Z"
   },
   {
    "duration": 6,
    "start_time": "2025-02-01T02:59:05.253Z"
   },
   {
    "duration": 162,
    "start_time": "2025-02-01T03:00:02.547Z"
   },
   {
    "duration": 8,
    "start_time": "2025-02-01T03:00:36.574Z"
   },
   {
    "duration": 14,
    "start_time": "2025-02-01T03:01:19.515Z"
   },
   {
    "duration": 4,
    "start_time": "2025-02-01T03:01:25.138Z"
   },
   {
    "duration": 4,
    "start_time": "2025-02-01T03:03:06.952Z"
   },
   {
    "duration": 5,
    "start_time": "2025-02-01T03:06:44.646Z"
   },
   {
    "duration": 3,
    "start_time": "2025-02-01T03:07:06.263Z"
   },
   {
    "duration": 14,
    "start_time": "2025-02-01T03:10:33.929Z"
   },
   {
    "duration": 5,
    "start_time": "2025-02-01T03:10:51.392Z"
   },
   {
    "duration": 3,
    "start_time": "2025-02-01T03:11:03.238Z"
   },
   {
    "duration": 4,
    "start_time": "2025-02-01T03:11:54.788Z"
   },
   {
    "duration": 13,
    "start_time": "2025-02-01T03:12:09.621Z"
   },
   {
    "duration": 3,
    "start_time": "2025-02-01T03:29:54.763Z"
   },
   {
    "duration": 13,
    "start_time": "2025-02-01T03:31:23.330Z"
   },
   {
    "duration": 4,
    "start_time": "2025-02-01T03:37:13.745Z"
   },
   {
    "duration": 13,
    "start_time": "2025-02-01T03:38:00.962Z"
   },
   {
    "duration": 4,
    "start_time": "2025-02-01T03:39:25.686Z"
   },
   {
    "duration": 19,
    "start_time": "2025-02-01T03:41:36.358Z"
   },
   {
    "duration": 40,
    "start_time": "2025-02-01T03:42:43.567Z"
   },
   {
    "duration": 21,
    "start_time": "2025-02-01T03:44:09.794Z"
   },
   {
    "duration": 15,
    "start_time": "2025-02-01T03:44:32.317Z"
   },
   {
    "duration": 13,
    "start_time": "2025-02-01T03:45:14.269Z"
   },
   {
    "duration": 3,
    "start_time": "2025-02-01T03:45:26.661Z"
   },
   {
    "duration": 20,
    "start_time": "2025-02-01T03:45:54.913Z"
   },
   {
    "duration": 21,
    "start_time": "2025-02-01T03:46:37.520Z"
   },
   {
    "duration": 4,
    "start_time": "2025-02-01T03:48:52.783Z"
   },
   {
    "duration": 19,
    "start_time": "2025-02-01T03:49:47.023Z"
   },
   {
    "duration": 15,
    "start_time": "2025-02-01T03:50:04.012Z"
   },
   {
    "duration": 9,
    "start_time": "2025-02-01T04:30:26.297Z"
   },
   {
    "duration": 159,
    "start_time": "2025-02-01T04:31:46.145Z"
   },
   {
    "duration": 8,
    "start_time": "2025-02-01T04:32:24.386Z"
   },
   {
    "duration": 4,
    "start_time": "2025-02-01T04:33:20.611Z"
   },
   {
    "duration": 15,
    "start_time": "2025-02-01T04:33:35.285Z"
   },
   {
    "duration": 3,
    "start_time": "2025-02-01T04:34:08.363Z"
   },
   {
    "duration": 14,
    "start_time": "2025-02-01T04:34:21.307Z"
   },
   {
    "duration": 13,
    "start_time": "2025-02-01T04:37:15.538Z"
   },
   {
    "duration": 4,
    "start_time": "2025-02-01T04:38:48.335Z"
   },
   {
    "duration": 13,
    "start_time": "2025-02-01T04:39:05.373Z"
   },
   {
    "duration": 4,
    "start_time": "2025-02-01T04:40:04.415Z"
   },
   {
    "duration": 3,
    "start_time": "2025-02-01T04:40:23.385Z"
   },
   {
    "duration": 4,
    "start_time": "2025-02-01T04:49:12.976Z"
   },
   {
    "duration": 16,
    "start_time": "2025-02-01T04:54:18.835Z"
   },
   {
    "duration": 3,
    "start_time": "2025-02-01T04:54:48.617Z"
   },
   {
    "duration": 4,
    "start_time": "2025-02-01T04:55:27.854Z"
   },
   {
    "duration": 19,
    "start_time": "2025-02-01T04:55:59.072Z"
   },
   {
    "duration": 3,
    "start_time": "2025-02-01T04:56:55.409Z"
   },
   {
    "duration": 34,
    "start_time": "2025-02-01T04:57:24.386Z"
   },
   {
    "duration": 13,
    "start_time": "2025-02-01T04:57:42.719Z"
   },
   {
    "duration": 14,
    "start_time": "2025-02-01T05:02:48.912Z"
   },
   {
    "duration": 4,
    "start_time": "2025-02-01T05:05:03.413Z"
   },
   {
    "duration": 4,
    "start_time": "2025-02-01T05:05:37.987Z"
   },
   {
    "duration": 3,
    "start_time": "2025-02-01T05:31:11.051Z"
   },
   {
    "duration": 16,
    "start_time": "2025-02-01T05:39:26.046Z"
   },
   {
    "duration": 15,
    "start_time": "2025-02-01T05:41:00.482Z"
   },
   {
    "duration": 13,
    "start_time": "2025-02-01T05:42:05.326Z"
   },
   {
    "duration": 4,
    "start_time": "2025-02-01T05:42:45.923Z"
   },
   {
    "duration": 8,
    "start_time": "2025-02-01T06:36:41.890Z"
   },
   {
    "duration": 19,
    "start_time": "2025-02-01T06:37:32.207Z"
   },
   {
    "duration": 18,
    "start_time": "2025-02-01T06:38:18.954Z"
   },
   {
    "duration": 5,
    "start_time": "2025-02-01T07:07:45.739Z"
   },
   {
    "duration": 5,
    "start_time": "2025-02-01T07:08:12.043Z"
   },
   {
    "duration": 5,
    "start_time": "2025-02-01T07:08:55.727Z"
   },
   {
    "duration": 5,
    "start_time": "2025-02-01T07:09:06.959Z"
   },
   {
    "duration": 5,
    "start_time": "2025-02-01T07:10:57.194Z"
   },
   {
    "duration": 5,
    "start_time": "2025-02-01T07:11:21.846Z"
   },
   {
    "duration": 7,
    "start_time": "2025-02-01T07:14:20.108Z"
   },
   {
    "duration": 20,
    "start_time": "2025-02-01T07:19:21.417Z"
   },
   {
    "duration": 6,
    "start_time": "2025-02-01T07:20:44.781Z"
   },
   {
    "duration": 9,
    "start_time": "2025-02-01T07:22:08.027Z"
   },
   {
    "duration": 8,
    "start_time": "2025-02-01T09:15:53.104Z"
   },
   {
    "duration": 7,
    "start_time": "2025-02-01T09:17:38.524Z"
   },
   {
    "duration": 6,
    "start_time": "2025-02-01T09:20:08.303Z"
   },
   {
    "duration": 8,
    "start_time": "2025-02-01T09:20:42.702Z"
   },
   {
    "duration": 7,
    "start_time": "2025-02-01T09:21:03.687Z"
   },
   {
    "duration": 7,
    "start_time": "2025-02-01T09:21:26.460Z"
   },
   {
    "duration": 7,
    "start_time": "2025-02-01T09:22:00.953Z"
   },
   {
    "duration": 169,
    "start_time": "2025-02-01T09:28:55.630Z"
   },
   {
    "duration": 33,
    "start_time": "2025-02-01T09:29:28.128Z"
   },
   {
    "duration": 23,
    "start_time": "2025-02-01T09:30:56.124Z"
   },
   {
    "duration": 43,
    "start_time": "2025-02-01T09:31:26.492Z"
   },
   {
    "duration": 20,
    "start_time": "2025-02-01T09:32:19.588Z"
   },
   {
    "duration": 21,
    "start_time": "2025-02-01T09:32:46.462Z"
   },
   {
    "duration": 42,
    "start_time": "2025-02-01T09:33:48.499Z"
   },
   {
    "duration": 23,
    "start_time": "2025-02-01T09:37:40.724Z"
   },
   {
    "duration": 23,
    "start_time": "2025-02-01T09:38:40.687Z"
   },
   {
    "duration": 24,
    "start_time": "2025-02-01T09:39:20.845Z"
   },
   {
    "duration": 20,
    "start_time": "2025-02-01T09:39:32.104Z"
   },
   {
    "duration": 7,
    "start_time": "2025-02-01T10:05:55.565Z"
   },
   {
    "duration": 9,
    "start_time": "2025-02-01T10:07:07.674Z"
   },
   {
    "duration": 7,
    "start_time": "2025-02-01T10:08:35.676Z"
   },
   {
    "duration": 6,
    "start_time": "2025-02-01T10:08:49.929Z"
   },
   {
    "duration": 6,
    "start_time": "2025-02-01T10:09:09.874Z"
   },
   {
    "duration": 6,
    "start_time": "2025-02-01T10:09:27.479Z"
   },
   {
    "duration": 161,
    "start_time": "2025-02-01T10:09:43.261Z"
   },
   {
    "duration": 6,
    "start_time": "2025-02-01T10:09:51.864Z"
   },
   {
    "duration": 7,
    "start_time": "2025-02-01T10:14:16.978Z"
   },
   {
    "duration": 3,
    "start_time": "2025-02-01T10:29:18.373Z"
   },
   {
    "duration": 3,
    "start_time": "2025-02-01T10:29:39.841Z"
   },
   {
    "duration": 3,
    "start_time": "2025-02-01T10:29:49.867Z"
   },
   {
    "duration": 4,
    "start_time": "2025-02-01T10:29:59.125Z"
   },
   {
    "duration": 3,
    "start_time": "2025-02-01T10:30:22.686Z"
   },
   {
    "duration": 3,
    "start_time": "2025-02-01T10:30:29.459Z"
   },
   {
    "duration": 4,
    "start_time": "2025-02-01T10:30:40.564Z"
   },
   {
    "duration": 3,
    "start_time": "2025-02-01T10:30:57.446Z"
   },
   {
    "duration": 6,
    "start_time": "2025-02-01T10:31:08.384Z"
   },
   {
    "duration": 5,
    "start_time": "2025-02-01T10:31:20.412Z"
   },
   {
    "duration": 4,
    "start_time": "2025-02-01T10:32:53.989Z"
   },
   {
    "duration": 7,
    "start_time": "2025-02-01T10:38:43.491Z"
   },
   {
    "duration": 5,
    "start_time": "2025-02-01T10:39:56.388Z"
   },
   {
    "duration": 5,
    "start_time": "2025-02-01T10:40:13.231Z"
   },
   {
    "duration": 5,
    "start_time": "2025-02-01T10:43:44.066Z"
   },
   {
    "duration": 6,
    "start_time": "2025-02-01T10:44:51.486Z"
   },
   {
    "duration": 6,
    "start_time": "2025-02-01T10:46:22.317Z"
   },
   {
    "duration": 5,
    "start_time": "2025-02-01T10:46:43.274Z"
   },
   {
    "duration": 5,
    "start_time": "2025-02-01T10:48:25.965Z"
   },
   {
    "duration": 6,
    "start_time": "2025-02-01T10:48:36.199Z"
   },
   {
    "duration": 5,
    "start_time": "2025-02-01T11:03:55.408Z"
   },
   {
    "duration": 8,
    "start_time": "2025-02-01T11:05:20.962Z"
   },
   {
    "duration": 5,
    "start_time": "2025-02-01T11:05:35.417Z"
   },
   {
    "duration": 19,
    "start_time": "2025-02-01T11:15:34.273Z"
   },
   {
    "duration": 19,
    "start_time": "2025-02-01T11:16:22.017Z"
   },
   {
    "duration": 19,
    "start_time": "2025-02-01T11:16:35.851Z"
   },
   {
    "duration": 6,
    "start_time": "2025-02-01T11:23:15.325Z"
   },
   {
    "duration": 5,
    "start_time": "2025-02-01T11:24:26.624Z"
   },
   {
    "duration": 6,
    "start_time": "2025-02-01T11:24:52.111Z"
   },
   {
    "duration": 6,
    "start_time": "2025-02-01T11:31:55.497Z"
   },
   {
    "duration": 6,
    "start_time": "2025-02-01T11:32:30.434Z"
   },
   {
    "duration": 6,
    "start_time": "2025-02-01T11:33:27.724Z"
   },
   {
    "duration": 5,
    "start_time": "2025-02-01T11:33:53.791Z"
   },
   {
    "duration": 6,
    "start_time": "2025-02-01T11:34:33.344Z"
   },
   {
    "duration": 6,
    "start_time": "2025-02-01T11:37:27.409Z"
   },
   {
    "duration": 6,
    "start_time": "2025-02-01T11:39:32.214Z"
   },
   {
    "duration": 6,
    "start_time": "2025-02-01T11:39:41.719Z"
   },
   {
    "duration": 5,
    "start_time": "2025-02-01T12:08:14.033Z"
   },
   {
    "duration": 5,
    "start_time": "2025-02-01T12:10:12.323Z"
   },
   {
    "duration": 5,
    "start_time": "2025-02-01T12:10:48.975Z"
   },
   {
    "duration": 7,
    "start_time": "2025-02-01T12:12:19.645Z"
   },
   {
    "duration": 5,
    "start_time": "2025-02-01T12:12:54.129Z"
   },
   {
    "duration": 5,
    "start_time": "2025-02-01T12:14:13.110Z"
   },
   {
    "duration": 6,
    "start_time": "2025-02-01T12:15:35.436Z"
   },
   {
    "duration": 6,
    "start_time": "2025-02-01T12:16:16.448Z"
   },
   {
    "duration": 8,
    "start_time": "2025-02-01T12:16:39.232Z"
   },
   {
    "duration": 11,
    "start_time": "2025-02-01T20:41:10.660Z"
   },
   {
    "duration": 5,
    "start_time": "2025-02-01T20:43:52.597Z"
   },
   {
    "duration": 5,
    "start_time": "2025-02-01T20:44:05.331Z"
   },
   {
    "duration": 6,
    "start_time": "2025-02-01T20:46:55.763Z"
   },
   {
    "duration": 8,
    "start_time": "2025-02-01T20:47:23.151Z"
   },
   {
    "duration": 6,
    "start_time": "2025-02-01T20:47:33.214Z"
   },
   {
    "duration": 6,
    "start_time": "2025-02-01T20:47:39.468Z"
   },
   {
    "duration": 6,
    "start_time": "2025-02-01T20:48:20.416Z"
   },
   {
    "duration": 7,
    "start_time": "2025-02-01T20:59:37.030Z"
   },
   {
    "duration": 6,
    "start_time": "2025-02-01T20:59:55.326Z"
   },
   {
    "duration": 5,
    "start_time": "2025-02-01T21:01:09.564Z"
   },
   {
    "duration": 8,
    "start_time": "2025-02-01T21:01:50.052Z"
   },
   {
    "duration": 5,
    "start_time": "2025-02-01T21:02:52.654Z"
   },
   {
    "duration": 164,
    "start_time": "2025-02-01T21:50:29.285Z"
   },
   {
    "duration": 7,
    "start_time": "2025-02-01T21:57:06.422Z"
   },
   {
    "duration": 22,
    "start_time": "2025-02-01T21:58:22.766Z"
   },
   {
    "duration": 8,
    "start_time": "2025-02-01T22:13:49.661Z"
   },
   {
    "duration": 7,
    "start_time": "2025-02-01T22:42:20.557Z"
   },
   {
    "duration": 7,
    "start_time": "2025-02-01T22:43:00.430Z"
   },
   {
    "duration": 22,
    "start_time": "2025-02-01T22:44:09.065Z"
   },
   {
    "duration": 21,
    "start_time": "2025-02-01T22:47:20.947Z"
   },
   {
    "duration": 47,
    "start_time": "2025-02-01T22:48:24.663Z"
   },
   {
    "duration": 24,
    "start_time": "2025-02-01T22:57:39.538Z"
   },
   {
    "duration": 29,
    "start_time": "2025-02-01T22:58:11.032Z"
   },
   {
    "duration": 6,
    "start_time": "2025-02-01T23:10:31.438Z"
   },
   {
    "duration": 21,
    "start_time": "2025-02-01T23:12:09.292Z"
   },
   {
    "duration": 23,
    "start_time": "2025-02-01T23:22:11.177Z"
   },
   {
    "duration": 19,
    "start_time": "2025-02-01T23:22:58.439Z"
   },
   {
    "duration": 19,
    "start_time": "2025-02-01T23:23:11.427Z"
   },
   {
    "duration": 6,
    "start_time": "2025-02-01T23:23:28.010Z"
   },
   {
    "duration": 18,
    "start_time": "2025-02-01T23:23:48.076Z"
   },
   {
    "duration": 6,
    "start_time": "2025-02-01T23:23:57.787Z"
   },
   {
    "duration": 5,
    "start_time": "2025-02-01T23:29:20.794Z"
   },
   {
    "duration": 6,
    "start_time": "2025-02-01T23:29:59.472Z"
   },
   {
    "duration": 21,
    "start_time": "2025-02-01T23:30:33.000Z"
   },
   {
    "duration": 6,
    "start_time": "2025-02-01T23:30:48.826Z"
   },
   {
    "duration": 8,
    "start_time": "2025-02-02T21:02:32.609Z"
   },
   {
    "duration": 4,
    "start_time": "2025-02-02T21:02:32.620Z"
   },
   {
    "duration": 0,
    "start_time": "2025-02-02T21:02:32.627Z"
   },
   {
    "duration": 0,
    "start_time": "2025-02-02T21:02:32.629Z"
   },
   {
    "duration": 0,
    "start_time": "2025-02-02T21:02:32.631Z"
   },
   {
    "duration": 0,
    "start_time": "2025-02-02T21:02:32.632Z"
   },
   {
    "duration": 0,
    "start_time": "2025-02-02T21:02:32.634Z"
   },
   {
    "duration": 0,
    "start_time": "2025-02-02T21:02:32.635Z"
   },
   {
    "duration": 0,
    "start_time": "2025-02-02T21:02:32.636Z"
   },
   {
    "duration": 0,
    "start_time": "2025-02-02T21:02:32.637Z"
   },
   {
    "duration": 0,
    "start_time": "2025-02-02T21:02:32.638Z"
   },
   {
    "duration": 5,
    "start_time": "2025-02-02T21:02:36.401Z"
   },
   {
    "duration": 5,
    "start_time": "2025-02-02T21:02:39.708Z"
   },
   {
    "duration": 4,
    "start_time": "2025-02-02T21:02:56.342Z"
   },
   {
    "duration": 6,
    "start_time": "2025-02-02T21:03:04.700Z"
   },
   {
    "duration": 3,
    "start_time": "2025-02-02T21:03:06.947Z"
   },
   {
    "duration": 179,
    "start_time": "2025-02-02T21:03:11.364Z"
   },
   {
    "duration": 6,
    "start_time": "2025-02-02T21:03:13.362Z"
   },
   {
    "duration": 4,
    "start_time": "2025-02-02T21:03:14.643Z"
   },
   {
    "duration": 3,
    "start_time": "2025-02-02T21:03:17.273Z"
   },
   {
    "duration": 6,
    "start_time": "2025-02-02T21:03:19.489Z"
   },
   {
    "duration": 23,
    "start_time": "2025-02-02T21:03:20.791Z"
   },
   {
    "duration": 7,
    "start_time": "2025-02-02T21:03:24.076Z"
   },
   {
    "duration": 6,
    "start_time": "2025-02-02T21:06:14.205Z"
   },
   {
    "duration": 5,
    "start_time": "2025-02-02T21:06:23.477Z"
   },
   {
    "duration": 3,
    "start_time": "2025-02-02T21:06:31.291Z"
   },
   {
    "duration": 28,
    "start_time": "2025-02-02T21:08:13.913Z"
   },
   {
    "duration": 7,
    "start_time": "2025-02-02T21:08:52.420Z"
   },
   {
    "duration": 5,
    "start_time": "2025-02-02T21:21:56.235Z"
   },
   {
    "duration": 7,
    "start_time": "2025-02-02T21:25:49.009Z"
   },
   {
    "duration": 3,
    "start_time": "2025-02-02T21:32:22.567Z"
   },
   {
    "duration": 164,
    "start_time": "2025-02-03T16:12:32.989Z"
   },
   {
    "duration": 5,
    "start_time": "2025-02-03T16:14:07.463Z"
   },
   {
    "duration": 5,
    "start_time": "2025-02-03T16:14:31.840Z"
   },
   {
    "duration": 21,
    "start_time": "2025-02-03T16:15:58.416Z"
   },
   {
    "duration": 22,
    "start_time": "2025-02-03T16:17:57.936Z"
   },
   {
    "duration": 19,
    "start_time": "2025-02-03T16:18:13.577Z"
   },
   {
    "duration": 9,
    "start_time": "2025-02-03T16:32:10.672Z"
   },
   {
    "duration": 6,
    "start_time": "2025-02-03T16:33:14.871Z"
   },
   {
    "duration": 8,
    "start_time": "2025-02-03T16:33:31.963Z"
   },
   {
    "duration": 7,
    "start_time": "2025-02-03T16:38:26.982Z"
   },
   {
    "duration": 5,
    "start_time": "2025-02-03T16:38:43.320Z"
   },
   {
    "duration": 5,
    "start_time": "2025-02-03T16:39:07.633Z"
   },
   {
    "duration": 7,
    "start_time": "2025-02-03T16:39:38.992Z"
   },
   {
    "duration": 5,
    "start_time": "2025-02-03T16:42:01.589Z"
   },
   {
    "duration": 7,
    "start_time": "2025-02-03T16:42:23.625Z"
   },
   {
    "duration": 6,
    "start_time": "2025-02-03T16:46:03.064Z"
   },
   {
    "duration": 5,
    "start_time": "2025-02-03T16:46:34.063Z"
   },
   {
    "duration": 6,
    "start_time": "2025-02-03T16:46:54.917Z"
   },
   {
    "duration": 5,
    "start_time": "2025-02-03T16:47:12.551Z"
   },
   {
    "duration": 6,
    "start_time": "2025-02-03T16:47:35.882Z"
   },
   {
    "duration": 5,
    "start_time": "2025-02-03T16:48:56.828Z"
   },
   {
    "duration": 7,
    "start_time": "2025-02-03T16:49:51.270Z"
   },
   {
    "duration": 5,
    "start_time": "2025-02-03T16:50:41.708Z"
   },
   {
    "duration": 6,
    "start_time": "2025-02-03T16:50:54.348Z"
   },
   {
    "duration": 7,
    "start_time": "2025-02-03T16:52:38.375Z"
   },
   {
    "duration": 8,
    "start_time": "2025-02-04T00:43:48.361Z"
   },
   {
    "duration": 164,
    "start_time": "2025-02-04T00:43:57.896Z"
   },
   {
    "duration": 6,
    "start_time": "2025-02-04T00:45:11.377Z"
   },
   {
    "duration": 21,
    "start_time": "2025-02-04T00:45:22.408Z"
   },
   {
    "duration": 6,
    "start_time": "2025-02-04T00:45:46.610Z"
   },
   {
    "duration": 6,
    "start_time": "2025-02-04T00:46:56.307Z"
   },
   {
    "duration": 6,
    "start_time": "2025-02-04T00:47:11.821Z"
   },
   {
    "duration": 6,
    "start_time": "2025-02-04T00:52:38.067Z"
   },
   {
    "duration": 20,
    "start_time": "2025-02-04T00:55:14.924Z"
   },
   {
    "duration": 6,
    "start_time": "2025-02-04T01:00:18.707Z"
   },
   {
    "duration": 5,
    "start_time": "2025-02-04T01:00:57.605Z"
   },
   {
    "duration": 5,
    "start_time": "2025-02-04T01:02:44.674Z"
   },
   {
    "duration": 20,
    "start_time": "2025-02-04T01:08:57.936Z"
   },
   {
    "duration": 5,
    "start_time": "2025-02-04T01:09:17.779Z"
   },
   {
    "duration": 20,
    "start_time": "2025-02-04T01:41:16.662Z"
   },
   {
    "duration": 46,
    "start_time": "2025-02-04T01:42:09.520Z"
   },
   {
    "duration": 22,
    "start_time": "2025-02-04T01:49:36.906Z"
   },
   {
    "duration": 26,
    "start_time": "2025-02-04T01:50:28.122Z"
   },
   {
    "duration": 20,
    "start_time": "2025-02-04T01:51:03.264Z"
   },
   {
    "duration": 20,
    "start_time": "2025-02-04T01:51:31.391Z"
   },
   {
    "duration": 21,
    "start_time": "2025-02-04T01:53:23.680Z"
   },
   {
    "duration": 19,
    "start_time": "2025-02-04T01:54:06.094Z"
   },
   {
    "duration": 8,
    "start_time": "2025-02-04T01:55:28.516Z"
   },
   {
    "duration": 18,
    "start_time": "2025-02-04T01:55:43.329Z"
   },
   {
    "duration": 7,
    "start_time": "2025-02-04T01:56:24.871Z"
   },
   {
    "duration": 20,
    "start_time": "2025-02-04T02:01:04.346Z"
   },
   {
    "duration": 6,
    "start_time": "2025-02-04T02:01:22.484Z"
   },
   {
    "duration": 6,
    "start_time": "2025-02-04T02:01:56.658Z"
   },
   {
    "duration": 6,
    "start_time": "2025-02-04T02:05:04.116Z"
   },
   {
    "duration": 12,
    "start_time": "2025-02-04T02:05:44.522Z"
   },
   {
    "duration": 8,
    "start_time": "2025-02-04T02:06:59.627Z"
   },
   {
    "duration": 23,
    "start_time": "2025-02-04T02:11:54.568Z"
   },
   {
    "duration": 20,
    "start_time": "2025-02-04T02:17:30.054Z"
   },
   {
    "duration": 19,
    "start_time": "2025-02-04T02:17:41.519Z"
   },
   {
    "duration": 23,
    "start_time": "2025-02-04T02:19:03.282Z"
   },
   {
    "duration": 19,
    "start_time": "2025-02-04T02:23:23.834Z"
   },
   {
    "duration": 6,
    "start_time": "2025-02-04T02:24:34.055Z"
   },
   {
    "duration": 167,
    "start_time": "2025-02-04T03:31:43.027Z"
   },
   {
    "duration": 7,
    "start_time": "2025-02-04T03:34:48.860Z"
   },
   {
    "duration": 8,
    "start_time": "2025-02-04T03:37:20.653Z"
   },
   {
    "duration": 7,
    "start_time": "2025-02-04T03:40:22.050Z"
   },
   {
    "duration": 7,
    "start_time": "2025-02-04T03:40:42.382Z"
   },
   {
    "duration": 7,
    "start_time": "2025-02-04T03:58:22.682Z"
   },
   {
    "duration": 21,
    "start_time": "2025-02-04T04:01:47.654Z"
   },
   {
    "duration": 20,
    "start_time": "2025-02-04T04:03:05.183Z"
   },
   {
    "duration": 7,
    "start_time": "2025-02-04T04:03:43.536Z"
   },
   {
    "duration": 6,
    "start_time": "2025-02-04T04:18:56.217Z"
   },
   {
    "duration": 3,
    "start_time": "2025-02-04T05:04:38.731Z"
   },
   {
    "duration": 3,
    "start_time": "2025-02-04T05:04:56.329Z"
   },
   {
    "duration": 11,
    "start_time": "2025-02-04T05:06:41.965Z"
   },
   {
    "duration": 3,
    "start_time": "2025-02-04T05:07:45.714Z"
   },
   {
    "duration": 2,
    "start_time": "2025-02-04T05:09:05.073Z"
   },
   {
    "duration": 2,
    "start_time": "2025-02-04T05:10:45.394Z"
   },
   {
    "duration": 3,
    "start_time": "2025-02-04T05:11:07.976Z"
   },
   {
    "duration": 2,
    "start_time": "2025-02-04T05:12:12.576Z"
   },
   {
    "duration": 59,
    "start_time": "2025-02-04T06:09:21.957Z"
   },
   {
    "duration": 7,
    "start_time": "2025-02-04T06:15:23.459Z"
   },
   {
    "duration": 7,
    "start_time": "2025-02-04T06:17:35.574Z"
   },
   {
    "duration": 4,
    "start_time": "2025-02-04T06:42:05.184Z"
   },
   {
    "duration": 7,
    "start_time": "2025-02-04T06:49:24.397Z"
   },
   {
    "duration": 4,
    "start_time": "2025-02-04T06:49:24.406Z"
   },
   {
    "duration": 2,
    "start_time": "2025-02-04T06:49:24.412Z"
   },
   {
    "duration": 7,
    "start_time": "2025-02-04T06:49:24.416Z"
   },
   {
    "duration": 8,
    "start_time": "2025-02-04T06:49:24.424Z"
   },
   {
    "duration": 6,
    "start_time": "2025-02-04T06:49:24.438Z"
   },
   {
    "duration": 3,
    "start_time": "2025-02-04T06:49:24.446Z"
   },
   {
    "duration": 6,
    "start_time": "2025-02-04T06:49:24.450Z"
   },
   {
    "duration": 6,
    "start_time": "2025-02-04T06:49:24.458Z"
   },
   {
    "duration": 6,
    "start_time": "2025-02-04T06:49:24.465Z"
   },
   {
    "duration": 43,
    "start_time": "2025-02-04T06:49:24.473Z"
   },
   {
    "duration": 9,
    "start_time": "2025-02-04T19:19:05.010Z"
   },
   {
    "duration": 9,
    "start_time": "2025-02-05T01:13:17.353Z"
   },
   {
    "duration": 6,
    "start_time": "2025-02-05T02:23:10.713Z"
   },
   {
    "duration": 10,
    "start_time": "2025-02-05T03:07:45.585Z"
   },
   {
    "duration": 165,
    "start_time": "2025-02-05T03:08:06.026Z"
   },
   {
    "duration": 19,
    "start_time": "2025-02-05T03:17:32.805Z"
   },
   {
    "duration": 19,
    "start_time": "2025-02-05T03:21:04.843Z"
   },
   {
    "duration": 20,
    "start_time": "2025-02-05T03:23:31.479Z"
   },
   {
    "duration": 41,
    "start_time": "2025-02-05T03:26:31.389Z"
   },
   {
    "duration": 19,
    "start_time": "2025-02-05T03:31:50.427Z"
   },
   {
    "duration": 18,
    "start_time": "2025-02-05T03:32:12.469Z"
   },
   {
    "duration": 6,
    "start_time": "2025-02-05T03:47:58.516Z"
   },
   {
    "duration": 19,
    "start_time": "2025-02-05T03:48:39.472Z"
   },
   {
    "duration": 6,
    "start_time": "2025-02-05T03:48:57.241Z"
   },
   {
    "duration": 19,
    "start_time": "2025-02-05T03:56:06.462Z"
   },
   {
    "duration": 19,
    "start_time": "2025-02-05T03:56:21.777Z"
   },
   {
    "duration": 8,
    "start_time": "2025-02-05T04:00:26.672Z"
   },
   {
    "duration": 20,
    "start_time": "2025-02-05T04:00:48.537Z"
   },
   {
    "duration": 18,
    "start_time": "2025-02-05T04:02:44.725Z"
   },
   {
    "duration": 19,
    "start_time": "2025-02-05T04:03:11.910Z"
   },
   {
    "duration": 6,
    "start_time": "2025-02-05T04:03:40.686Z"
   },
   {
    "duration": 9,
    "start_time": "2025-02-05T19:24:28.276Z"
   },
   {
    "duration": 167,
    "start_time": "2025-02-06T00:35:48.163Z"
   },
   {
    "duration": 10,
    "start_time": "2025-02-06T00:42:24.919Z"
   },
   {
    "duration": 19,
    "start_time": "2025-02-06T00:42:57.743Z"
   },
   {
    "duration": 6,
    "start_time": "2025-02-06T00:44:05.671Z"
   },
   {
    "duration": 5,
    "start_time": "2025-02-06T00:44:55.417Z"
   },
   {
    "duration": 5,
    "start_time": "2025-02-06T00:46:23.126Z"
   },
   {
    "duration": 5,
    "start_time": "2025-02-06T00:46:49.750Z"
   },
   {
    "duration": 6,
    "start_time": "2025-02-06T00:53:51.694Z"
   },
   {
    "duration": 9,
    "start_time": "2025-02-06T03:54:02.539Z"
   }
  ],
  "colab": {
   "provenance": []
  },
  "kernelspec": {
   "display_name": "Python 3",
   "language": "python",
   "name": "python3"
  },
  "language_info": {
   "codemirror_mode": {
    "name": "ipython",
    "version": 3
   },
   "file_extension": ".py",
   "mimetype": "text/x-python",
   "name": "python",
   "nbconvert_exporter": "python",
   "pygments_lexer": "ipython3",
   "version": "3.13.3"
  },
  "toc": {
   "base_numbering": 1,
   "nav_menu": {},
   "number_sections": true,
   "sideBar": true,
   "skip_h1_title": true,
   "title_cell": "Table of Contents",
   "title_sidebar": "Contents",
   "toc_cell": false,
   "toc_position": {},
   "toc_section_display": true,
   "toc_window_display": false
  }
 },
 "nbformat": 4,
 "nbformat_minor": 1
}
